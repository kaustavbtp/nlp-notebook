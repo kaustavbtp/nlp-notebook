{
 "cells": [
  {
   "cell_type": "code",
   "execution_count": 6,
   "metadata": {},
   "outputs": [
    {
     "name": "stderr",
     "output_type": "stream",
     "text": [
      "[nltk_data] Downloading package punkt to\n",
      "[nltk_data]     C:\\Users\\mousumi\\AppData\\Roaming\\nltk_data...\n",
      "[nltk_data]   Package punkt is already up-to-date!\n",
      "[nltk_data] Downloading package wordnet to\n",
      "[nltk_data]     C:\\Users\\mousumi\\AppData\\Roaming\\nltk_data...\n",
      "[nltk_data]   Package wordnet is already up-to-date!\n",
      "[nltk_data] Downloading package stopwords to\n",
      "[nltk_data]     C:\\Users\\mousumi\\AppData\\Roaming\\nltk_data...\n",
      "[nltk_data]   Package stopwords is already up-to-date!\n"
     ]
    }
   ],
   "source": [
    "# Let's create a Python notebook to explain various NLP concepts\n",
    "\n",
    "# preprocessing library\n",
    "import nltk\n",
    "import string\n",
    "import pandas as pd \n",
    "from sklearn.feature_extraction.text import TfidfVectorizer  # feature engineering library\n",
    "from sklearn.metrics.pairwise import cosine_similarity\n",
    "\n",
    "# Download necessary NLTK data files\n",
    "nltk.download('punkt')\n",
    "nltk.download('wordnet')\n",
    "nltk.download('stopwords')\n",
    "\n",
    "# Sample text for demonstration\n",
    "text1 = \"How to create sales order\"\n",
    "text2 = \"How to create Purchase Order\""
   ]
  },
  {
   "cell_type": "code",
   "execution_count": 7,
   "metadata": {},
   "outputs": [
    {
     "name": "stdout",
     "output_type": "stream",
     "text": [
      "Tokens1: ['How', 'to', 'create', 'sales', 'order']\n",
      "Tokens2: ['How', 'to', 'create', 'Purchase', 'Order']\n"
     ]
    }
   ],
   "source": [
    "# 1. Tokenization\n",
    "from nltk.tokenize import word_tokenize\n",
    "\n",
    "tokens1 = word_tokenize(text1)\n",
    "tokens2 = word_tokenize(text2)\n",
    "\n",
    "print(\"Tokens1:\", tokens1)\n",
    "print(\"Tokens2:\", tokens2)"
   ]
  },
  {
   "cell_type": "code",
   "execution_count": 8,
   "metadata": {},
   "outputs": [
    {
     "name": "stdout",
     "output_type": "stream",
     "text": [
      "Lemmatized Tokens1: ['how', 'to', 'create', 'sale', 'order']\n",
      "Lemmatized Tokens2: ['how', 'to', 'create', 'purchase', 'order']\n"
     ]
    }
   ],
   "source": [
    "# 2. Lemmatization\n",
    "from nltk.stem import WordNetLemmatizer\n",
    "\n",
    "lemmatizer = WordNetLemmatizer()\n",
    "lemmatized_tokens1 = [lemmatizer.lemmatize(token.lower()) for token in tokens1]\n",
    "lemmatized_tokens2 = [lemmatizer.lemmatize(token.lower()) for token in tokens2]\n",
    "\n",
    "print(\"Lemmatized Tokens1:\", lemmatized_tokens1)\n",
    "print(\"Lemmatized Tokens2:\", lemmatized_tokens2)"
   ]
  },
  {
   "cell_type": "code",
   "execution_count": 9,
   "metadata": {},
   "outputs": [
    {
     "name": "stdout",
     "output_type": "stream",
     "text": [
      "Filtered Tokens1: ['create', 'sale', 'order']\n",
      "Filtered Tokens2: ['create', 'purchase', 'order']\n"
     ]
    }
   ],
   "source": [
    "# 3. Stopword Removal\n",
    "from nltk.corpus import stopwords\n",
    "\n",
    "stop_words = set(stopwords.words('english'))\n",
    "filtered_tokens1 = [token for token in lemmatized_tokens1 if token not in stop_words and token not in string.punctuation]\n",
    "filtered_tokens2 = [token for token in lemmatized_tokens2 if token not in stop_words and token not in string.punctuation]\n",
    "\n",
    "print(\"Filtered Tokens1:\", filtered_tokens1)\n",
    "print(\"Filtered Tokens2:\", filtered_tokens2)"
   ]
  },
  {
   "cell_type": "code",
   "execution_count": 10,
   "metadata": {},
   "outputs": [
    {
     "name": "stdout",
     "output_type": "stream",
     "text": [
      "TF-IDF Matrix:\n",
      "     create     order  purchase      sale\n",
      "0  0.501549  0.501549  0.000000  0.704909\n",
      "1  0.501549  0.501549  0.704909  0.000000\n"
     ]
    }
   ],
   "source": [
    "# 4. TF-IDF Vectorization\n",
    "tfidf_vectorizer = TfidfVectorizer()\n",
    "tfidf_matrix = tfidf_vectorizer.fit_transform([' '.join(filtered_tokens1), ' '.join(filtered_tokens2)])\n",
    "df_tfidf = pd.DataFrame(tfidf_matrix.toarray(), columns=tfidf_vectorizer.get_feature_names_out())\n",
    "print(\"TF-IDF Matrix:\")\n",
    "print(df_tfidf)"
   ]
  },
  {
   "cell_type": "code",
   "execution_count": 11,
   "metadata": {},
   "outputs": [
    {
     "name": "stdout",
     "output_type": "stream",
     "text": [
      "Cosine Similarity: 0.5031026124151314\n"
     ]
    }
   ],
   "source": [
    "# 5. Cosine Similarity\n",
    "cosine_sim = cosine_similarity(tfidf_matrix[0:1], tfidf_matrix[1:2])\n",
    "print(\"Cosine Similarity:\", cosine_sim[0][0])"
   ]
  }
 ],
 "metadata": {
  "kernelspec": {
   "display_name": "Python 3",
   "language": "python",
   "name": "python3"
  },
  "language_info": {
   "codemirror_mode": {
    "name": "ipython",
    "version": 3
   },
   "file_extension": ".py",
   "mimetype": "text/x-python",
   "name": "python",
   "nbconvert_exporter": "python",
   "pygments_lexer": "ipython3",
   "version": "3.12.3"
  }
 },
 "nbformat": 4,
 "nbformat_minor": 2
}
